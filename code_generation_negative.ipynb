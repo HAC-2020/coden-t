{
  "nbformat": 4,
  "nbformat_minor": 0,
  "metadata": {
    "colab": {
      "name": "code generation negative.ipynb",
      "provenance": [],
      "collapsed_sections": []
    },
    "kernelspec": {
      "name": "python3",
      "display_name": "Python 3"
    }
  },
  "cells": [
    {
      "cell_type": "code",
      "metadata": {
        "id": "Dybfflv_6O1j",
        "colab_type": "code",
        "colab": {
          "base_uri": "https://localhost:8080/",
          "height": 34
        },
        "outputId": "f13c8140-e957-4e07-fb49-0e077a19dfe0"
      },
      "source": [
        "# Python3 code to demonstrate \n",
        "# the random generation of string id's \n",
        "\n",
        "import random \n",
        "import string \n",
        "\n",
        "# defining function for random \n",
        "# string id with parameter \n",
        "def ran_gen(size, chars=string.ascii_uppercase + string.digits): \n",
        "\treturn ''.join(random.choice(chars) for x in range(size)) \n",
        "\n",
        "# function call for random string \n",
        "# generation with size 8 and string \n",
        "a= (ran_gen(6, \"13456789AXCNMLERTSEKIASDDYYZZWJHGFREWSDFVBMJ5679SQJH\")) \n",
        "b= \"COV19\"\n",
        "d=\"20N\"\n",
        "c= b+a+d\n",
        "print (c)\n"
      ],
      "execution_count": 2,
      "outputs": [
        {
          "output_type": "stream",
          "text": [
            "COV19J99SVE20N\n"
          ],
          "name": "stdout"
        }
      ]
    }
  ]
}